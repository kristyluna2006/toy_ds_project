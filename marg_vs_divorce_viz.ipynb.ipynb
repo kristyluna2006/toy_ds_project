{
 "cells": [
  {
   "cell_type": "code",
   "execution_count": null,
   "id": "26218aa9-bf3b-4164-a975-e7056ecfc739",
   "metadata": {},
   "outputs": [],
   "source": [
    "hello"
   ]
  }
 ],
 "metadata": {
  "kernelspec": {
   "display_name": "R",
   "language": "R",
   "name": "ir"
  },
  "language_info": {
   "codemirror_mode": "r",
   "file_extension": ".r",
   "mimetype": "text/x-r-source",
   "name": "R",
   "pygments_lexer": "r",
   "version": "4.3.3"
  }
 },
 "nbformat": 4,
 "nbformat_minor": 5
}
